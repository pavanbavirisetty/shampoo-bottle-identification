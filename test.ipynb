{
 "cells": [
  {
   "cell_type": "code",
   "execution_count": 1,
   "metadata": {},
   "outputs": [
    {
     "name": "stderr",
     "output_type": "stream",
     "text": [
      "C:\\Users\\pavan\\AppData\\Local\\Temp\\ipykernel_12560\\3984744096.py:4: DeprecationWarning: 'imghdr' is deprecated and slated for removal in Python 3.13\n",
      "  import imghdr\n"
     ]
    }
   ],
   "source": [
    "import tensorflow as tf\n",
    "import os\n",
    "import cv2\n",
    "import imghdr\n",
    "import numpy as np\n",
    "from tensorflow.keras.models import Sequential\n",
    "from tensorflow.keras.layers import Conv2D,MaxPooling2D,Dense,Flatten,Dropout\n",
    "from sklearn.model_selection import train_test_split"
   ]
  },
  {
   "cell_type": "code",
   "execution_count": 2,
   "metadata": {},
   "outputs": [],
   "source": [
    "gpus = tf.config.experimental.list_physical_devices('GPU')\n",
    "for gpu in gpus:\n",
    "    tf.config.experimental.set_memory_growth(gpu,True)"
   ]
  },
  {
   "cell_type": "code",
   "execution_count": 3,
   "metadata": {},
   "outputs": [],
   "source": [
    "data_dir = 'data'"
   ]
  },
  {
   "cell_type": "code",
   "execution_count": 4,
   "metadata": {},
   "outputs": [],
   "source": [
    "image_exts = ['jpeg','jpg','png','bmp']"
   ]
  },
  {
   "cell_type": "code",
   "execution_count": 5,
   "metadata": {},
   "outputs": [],
   "source": [
    "for image_class in os.listdir(data_dir):\n",
    "    for image in os.listdir(os.path.join(data_dir,image_class)):\n",
    "        image_path = os.path.join(data_dir,image_class,image)\n",
    "        try:\n",
    "            img = cv2.imread(image_path)\n",
    "            tip = imghdr.what(image_path)\n",
    "            if tip not in image_exts:\n",
    "                print('image doesnt exist {}'.format(image_path))\n",
    "                os.remove(image_path)\n",
    "        except Exception as e:\n",
    "            print('issue with the image {}'.format(image_path))"
   ]
  },
  {
   "cell_type": "code",
   "execution_count": 6,
   "metadata": {},
   "outputs": [],
   "source": [
    "images = []\n",
    "labels = []\n",
    "input_size = (256,256)\n",
    "batch_size = 32"
   ]
  },
  {
   "cell_type": "code",
   "execution_count": 27,
   "metadata": {},
   "outputs": [
    {
     "name": "stdout",
     "output_type": "stream",
     "text": [
      "8\n"
     ]
    }
   ],
   "source": [
    "data_dir = 'data'\n",
    "classes = ['8x','dove','head and shoulders','Loreal paris','mamaearth','p&g','saslic','wow skincare']\n",
    "num_classes = len(classes)\n",
    "print(num_classes)"
   ]
  },
  {
   "cell_type": "code",
   "execution_count": 28,
   "metadata": {},
   "outputs": [
    {
     "name": "stdout",
     "output_type": "stream",
     "text": [
      "Data shape: (1244, 256, 256, 3)\n",
      "Labels shape: (1244,)\n"
     ]
    }
   ],
   "source": [
    "def load_data(data_dir):\n",
    "\n",
    "    images = []\n",
    "    labels = []\n",
    "\n",
    "    for label, brand_name in enumerate(os.listdir(data_dir)):\n",
    "        brand_dir = os.path.join(data_dir, brand_name)\n",
    "        for image_name in os.listdir(brand_dir):\n",
    "            image_path = os.path.join(brand_dir, image_name)\n",
    "            image = cv2.imread(image_path)\n",
    "            image = cv2.resize(image, (256, 256))\n",
    "            images.append(image)\n",
    "            labels.append(label)\n",
    "    images = np.array(images, dtype=\"float32\") / 255.0\n",
    "    labels = np.array(labels)\n",
    "    return images, labels\n",
    "\n",
    "\n",
    "images, labels = load_data(data_dir)\n",
    "print(\"Data shape:\", images.shape)\n",
    "print(\"Labels shape:\", labels.shape)"
   ]
  },
  {
   "cell_type": "code",
   "execution_count": 29,
   "metadata": {},
   "outputs": [],
   "source": [
    "X_train, X_test, y_train, y_test = train_test_split(images, labels,train_size=0.8, test_size=0.2, random_state=42)\n",
    "X_train, X_val, y_train, y_val = train_test_split(X_train, y_train, test_size=0.25, random_state=42)"
   ]
  },
  {
   "cell_type": "code",
   "execution_count": 30,
   "metadata": {},
   "outputs": [],
   "source": [
    "model1 = Sequential()\n",
    "\n",
    "model1.add(Conv2D(32,(3,3), activation='relu',padding='same' , input_shape=(256,256,3)))\n",
    "model1.add(MaxPooling2D((2,2)))\n",
    "\n",
    "model1.add(Conv2D(64,(3,3), activation='relu', padding='same'))\n",
    "model1.add(MaxPooling2D((2, 2)))\n",
    "\n",
    "model1.add(Conv2D(128,(3,3), activation='relu', padding='same'))\n",
    "model1.add(MaxPooling2D((2, 2)))\n",
    "\n",
    "model1.add(Conv2D(128,(3,3), activation='relu', padding='same'))\n",
    "model1.add(MaxPooling2D((2, 2)))\n",
    "\n",
    "model1.add(Conv2D(512,(3,3), activation='relu', padding='same'))\n",
    "model1.add(MaxPooling2D((2, 2)))\n",
    "\n",
    "model1.add(Flatten())\n",
    "model1.add(Dense(512,activation='relu'))\n",
    "model1.add(Dropout(0.5))\n",
    "model1.add(Dense(8,activation='softmax'))"
   ]
  },
  {
   "cell_type": "code",
   "execution_count": 31,
   "metadata": {},
   "outputs": [],
   "source": [
    "# Compile the model\n",
    "model1.compile(optimizer='adam',\n",
    "              loss='sparse_categorical_crossentropy',\n",
    "              metrics=['accuracy'])\n"
   ]
  },
  {
   "cell_type": "code",
   "execution_count": 32,
   "metadata": {},
   "outputs": [
    {
     "name": "stdout",
     "output_type": "stream",
     "text": [
      "Model: \"sequential_1\"\n",
      "_________________________________________________________________\n",
      " Layer (type)                Output Shape              Param #   \n",
      "=================================================================\n",
      " conv2d_5 (Conv2D)           (None, 256, 256, 32)      896       \n",
      "                                                                 \n",
      " max_pooling2d_5 (MaxPooling  (None, 128, 128, 32)     0         \n",
      " 2D)                                                             \n",
      "                                                                 \n",
      " conv2d_6 (Conv2D)           (None, 128, 128, 64)      18496     \n",
      "                                                                 \n",
      " max_pooling2d_6 (MaxPooling  (None, 64, 64, 64)       0         \n",
      " 2D)                                                             \n",
      "                                                                 \n",
      " conv2d_7 (Conv2D)           (None, 64, 64, 128)       73856     \n",
      "                                                                 \n",
      " max_pooling2d_7 (MaxPooling  (None, 32, 32, 128)      0         \n",
      " 2D)                                                             \n",
      "                                                                 \n",
      " conv2d_8 (Conv2D)           (None, 32, 32, 128)       147584    \n",
      "                                                                 \n",
      " max_pooling2d_8 (MaxPooling  (None, 16, 16, 128)      0         \n",
      " 2D)                                                             \n",
      "                                                                 \n",
      " conv2d_9 (Conv2D)           (None, 16, 16, 512)       590336    \n",
      "                                                                 \n",
      " max_pooling2d_9 (MaxPooling  (None, 8, 8, 512)        0         \n",
      " 2D)                                                             \n",
      "                                                                 \n",
      " flatten_1 (Flatten)         (None, 32768)             0         \n",
      "                                                                 \n",
      " dense_2 (Dense)             (None, 512)               16777728  \n",
      "                                                                 \n",
      " dropout_1 (Dropout)         (None, 512)               0         \n",
      "                                                                 \n",
      " dense_3 (Dense)             (None, 8)                 4104      \n",
      "                                                                 \n",
      "=================================================================\n",
      "Total params: 17,613,000\n",
      "Trainable params: 17,613,000\n",
      "Non-trainable params: 0\n",
      "_________________________________________________________________\n"
     ]
    }
   ],
   "source": [
    "# Print the model summary\n",
    "model1.summary()"
   ]
  },
  {
   "cell_type": "code",
   "execution_count": 33,
   "metadata": {},
   "outputs": [
    {
     "name": "stdout",
     "output_type": "stream",
     "text": [
      "Epoch 1/12\n",
      "24/24 [==============================] - 32s 1s/step - loss: 2.2975 - accuracy: 0.1180 - val_loss: 2.0783 - val_accuracy: 0.2129\n",
      "Epoch 2/12\n",
      "24/24 [==============================] - 31s 1s/step - loss: 2.0132 - accuracy: 0.1997 - val_loss: 1.8286 - val_accuracy: 0.2851\n",
      "Epoch 3/12\n",
      "24/24 [==============================] - 31s 1s/step - loss: 1.7121 - accuracy: 0.3861 - val_loss: 1.5921 - val_accuracy: 0.4980\n",
      "Epoch 4/12\n",
      "24/24 [==============================] - 32s 1s/step - loss: 1.3906 - accuracy: 0.5362 - val_loss: 1.5058 - val_accuracy: 0.5301\n",
      "Epoch 5/12\n",
      "24/24 [==============================] - 32s 1s/step - loss: 1.1615 - accuracy: 0.5697 - val_loss: 1.4000 - val_accuracy: 0.5944\n",
      "Epoch 6/12\n",
      "24/24 [==============================] - 33s 1s/step - loss: 1.0004 - accuracy: 0.6783 - val_loss: 1.4718 - val_accuracy: 0.5863\n",
      "Epoch 7/12\n",
      "24/24 [==============================] - 32s 1s/step - loss: 0.8090 - accuracy: 0.7279 - val_loss: 1.3525 - val_accuracy: 0.6024\n",
      "Epoch 8/12\n",
      "24/24 [==============================] - 35s 1s/step - loss: 0.6294 - accuracy: 0.7815 - val_loss: 1.3075 - val_accuracy: 0.6145\n",
      "Epoch 9/12\n",
      "24/24 [==============================] - 32s 1s/step - loss: 0.5294 - accuracy: 0.8177 - val_loss: 1.7747 - val_accuracy: 0.6185\n",
      "Epoch 10/12\n",
      "24/24 [==============================] - 33s 1s/step - loss: 0.4519 - accuracy: 0.8458 - val_loss: 1.3793 - val_accuracy: 0.6827\n",
      "Epoch 11/12\n",
      "24/24 [==============================] - 33s 1s/step - loss: 0.3473 - accuracy: 0.8847 - val_loss: 1.6628 - val_accuracy: 0.6345\n",
      "Epoch 12/12\n",
      "24/24 [==============================] - 32s 1s/step - loss: 0.3285 - accuracy: 0.8954 - val_loss: 1.6395 - val_accuracy: 0.6707\n"
     ]
    },
    {
     "data": {
      "text/plain": [
       "<keras.callbacks.History at 0x225e734e670>"
      ]
     },
     "execution_count": 33,
     "metadata": {},
     "output_type": "execute_result"
    }
   ],
   "source": [
    "model1.fit(X_train, y_train, batch_size=32, epochs=12, validation_data=(X_val, y_val))"
   ]
  },
  {
   "cell_type": "code",
   "execution_count": 34,
   "metadata": {},
   "outputs": [
    {
     "name": "stdout",
     "output_type": "stream",
     "text": [
      "8/8 [==============================] - 2s 286ms/step - loss: 1.2413 - accuracy: 0.7309\n"
     ]
    }
   ],
   "source": [
    "test_loss, test_acc = model1.evaluate(X_test, y_test)"
   ]
  },
  {
   "cell_type": "code",
   "execution_count": 35,
   "metadata": {},
   "outputs": [
    {
     "name": "stdout",
     "output_type": "stream",
     "text": [
      "0.7309237122535706\n"
     ]
    }
   ],
   "source": [
    "print(test_acc)"
   ]
  },
  {
   "cell_type": "code",
   "execution_count": 36,
   "metadata": {},
   "outputs": [],
   "source": [
    "model1.save('model.h5')"
   ]
  }
 ],
 "metadata": {
  "kernelspec": {
   "display_name": "envi",
   "language": "python",
   "name": "python3"
  },
  "language_info": {
   "codemirror_mode": {
    "name": "ipython",
    "version": 3
   },
   "file_extension": ".py",
   "mimetype": "text/x-python",
   "name": "python",
   "nbconvert_exporter": "python",
   "pygments_lexer": "ipython3",
   "version": "3.9.13"
  },
  "orig_nbformat": 4,
  "vscode": {
   "interpreter": {
    "hash": "951824238cf23287c41602a28e67f60b43b9e4fd5a4f7d941689234553af5147"
   }
  }
 },
 "nbformat": 4,
 "nbformat_minor": 2
}
