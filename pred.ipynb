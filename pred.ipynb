{
 "cells": [
  {
   "cell_type": "code",
   "execution_count": 1,
   "metadata": {},
   "outputs": [],
   "source": [
    "from tensorflow import keras\n",
    "import cv2\n",
    "import numpy as np\n",
    "import tensorflow as tf"
   ]
  },
  {
   "cell_type": "code",
   "execution_count": 2,
   "metadata": {},
   "outputs": [],
   "source": [
    "model = keras.models.load_model('E:\\image classification project\\models\\model.h5')\n",
    "\n",
    "img1 = cv2.imread('E:\\\\image classification project\\\\Loreal_image_test.jpg')\n",
    "img2 = cv2.imread('E:\\image classification project\\h_s_image_test.jpg')\n",
    "img3 = cv2.imread('E:\\image classification project\\mamaearth_image_test.jpg')\n",
    "img4 = cv2.imread('E:\\image classification project\\saslic_image_test.jpg')\n",
    "img5 = cv2.imread('E:\\\\image classification project\\\\1.jpg')\n",
    "\n",
    "classes = ['8x','dove','head and shoulders','Loreal paris','mamaearth','p&g','saslic','wow skincare']"
   ]
  },
  {
   "cell_type": "code",
   "execution_count": 10,
   "metadata": {},
   "outputs": [
    {
     "name": "stdout",
     "output_type": "stream",
     "text": [
      "1/1 [==============================] - 0s 87ms/step\n",
      "[[1.39064662e-08 9.32297116e-05 2.34684967e-06 9.94690716e-01\n",
      "  1.17594986e-07 5.54775106e-05 4.98876395e-03 1.69366598e-04]]\n",
      "3\n"
     ]
    },
    {
     "data": {
      "text/plain": [
       "'Loreal paris'"
      ]
     },
     "execution_count": 10,
     "metadata": {},
     "output_type": "execute_result"
    }
   ],
   "source": [
    "def predict(model,img):\n",
    "    img = cv2.resize(img, (256, 256))\n",
    "    img = np.array(img, dtype=\"float32\") / 255.0\n",
    "    img = tf.expand_dims(img,axis=0)\n",
    "    # print(np.shape(img))\n",
    "\n",
    "    pprediction = model.predict(img)\n",
    "    print(pprediction)\n",
    "    print(np.argmax(pprediction))\n",
    "    predicted_class_index = np.argmax(pprediction, axis=1)[0]\n",
    "    # print(predicted_class_index)\n",
    "    predicted_class_name = classes[predicted_class_index]\n",
    "    # print('Predicted class:', predicted_class_name)\n",
    "    return predicted_class_name\n",
    "\n",
    "predict(model,img1)"
   ]
  }
 ],
 "metadata": {
  "kernelspec": {
   "display_name": "envi",
   "language": "python",
   "name": "python3"
  },
  "language_info": {
   "codemirror_mode": {
    "name": "ipython",
    "version": 3
   },
   "file_extension": ".py",
   "mimetype": "text/x-python",
   "name": "python",
   "nbconvert_exporter": "python",
   "pygments_lexer": "ipython3",
   "version": "3.9.13"
  },
  "orig_nbformat": 4,
  "vscode": {
   "interpreter": {
    "hash": "951824238cf23287c41602a28e67f60b43b9e4fd5a4f7d941689234553af5147"
   }
  }
 },
 "nbformat": 4,
 "nbformat_minor": 2
}
